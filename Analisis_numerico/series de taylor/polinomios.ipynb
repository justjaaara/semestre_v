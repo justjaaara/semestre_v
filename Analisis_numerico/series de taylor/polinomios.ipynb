{
 "cells": [
  {
   "cell_type": "code",
   "execution_count": null,
   "metadata": {},
   "outputs": [],
   "source": [
    "import sympy as sp\n",
    "import numpy as np\n",
    "import matplotlib.pyplot as plt\n",
    "\n",
    "#DEclarar x como variable simbólica\n",
    "\n",
    "x = sp.symbols('x')\n",
    "#función\n",
    "f=2**x\n",
    "#Derivada\n",
    "df=sp.diff(f,x)\n",
    "\n",
    "x0 = 0\n",
    "#El polinomio\n",
    "polinomio = (f.evalf(subs={x:x0}) + df.evalf(subs={x:x0})*(x-x0))\n",
    "\n",
    "# Gráfica del polinomio versus la función\n",
    "delta = 2\n",
    "u_x = np.linspace(x0-delta, x0+delta,100)\n",
    "polinomio = sp.lambdify(x,polinomio)\n",
    "f = sp.lambdify(x,f)\n",
    "plt.plot(u_x,f(u_x), 'b', label='$2^x$')\n",
    "plt.plot(u_x,polinomio(u_x), 'r', label='$P(x)$')\n",
    "plt.legend()\n",
    "plt.xlabel('Eje x')\n",
    "plt.ylabel('Eje y')"
   ]
  },
  {
   "cell_type": "code",
   "execution_count": null,
   "metadata": {},
   "outputs": [],
   "source": [
    "import sympy as sp\n",
    "import numpy as np\n",
    "import matplotlib.pyplot as plt\n",
    "\n",
    "#declarar x como variable simbólica\n",
    "x=sp.symbols('x')\n",
    "#funcion\n",
    "f=2**x\n",
    "#derivada\n",
    "df=sp.diff(f,x)\n",
    "#segunda derivada\n",
    "df2 = sp.diff(f,x,2)\n",
    "x0=0\n",
    "#el polinomio\n",
    "\n",
    "P2 = f.evalf(subs={x:x0} + df.evalf(subs={x:x0}*(x-x0) + df2.evalf(subs={x:x0}*(x-x0)**2/2)))\n",
    "\n",
    "delta=2\n",
    "u_x=np.linspace(x0-delta, x0+delta, 100)\n",
    "P2= sp.lambdify(x,P2)\n"
   ]
  },
  {
   "cell_type": "markdown",
   "metadata": {},
   "source": [
    " Suponga $f\\in C^{n}[a,b]$, tal que $f^{(n+1)}$ existe en $[a,b]$. Para cada $x\\in [a,b]$, existe un numero $\\xi(x)$ entre $x_0$, $x$ con}\n",
    "\\begin{equation*}\n",
    "f(x)=P_{n}(x)+R_{n}(x)    \n",
    "\\end{equation*}\n",
    " donde \n",
    "\n",
    " \\begin{equation*}\n",
    "     P_{n}(x)=f(x_0)+f'(x_0)(x-x_0)+\\frac{f''(x_0)}{2!}(x-x_0)^2+...+\\frac{f^{(n)}(x_0)}{n!}(x-x_0)^n\n",
    "     =\\sum_{k=0}^{n}\\frac{f^{(k)}(x_0)}{k!}(x-x_0)^k\n",
    " \\end{equation*}\n",
    "y \n",
    "\\begin{equation*}\n",
    "    R_{n}(x)=\\frac{f^{(n+1)}(\\xi(x))}{(n+1)!}(x-x_0)^{n+1}\n",
    "\\end{equation*}\n"
   ]
  },
  {
   "cell_type": "code",
   "execution_count": 9,
   "metadata": {},
   "outputs": [],
   "source": [
    "import sympy as sp\n",
    "import numpy as np\n",
    "import matplotlib.pyplot as plt\n",
    "import pandas as pd\n",
    "from math import factorial\n",
    "\n",
    "x=sp.symbols('x')\n",
    "f=2**x\n",
    "\n",
    "def serie_taylor(funcion, x0,grado_polinomio):\n",
    "    # f: función\n",
    "    # x0: punto alrededor donde se construye la serie\n",
    "    # n: Grado del polinomio\n",
    "\n",
    "    polinomio = 0\n",
    "    for k in range(grado_polinomio + 1):\n",
    "        derivada_funcion = sp.diff(funcion,x,k)\n",
    "        derivada_funcion_evaluada = derivada_funcion.evalf(subs={x:x0})\n",
    "        polinomio+= derivada_funcion_evaluada * (x-x0)**k/factorial(k)\n",
    "\n",
    "    return sp.expand(polinomio)\n"
   ]
  },
  {
   "cell_type": "code",
   "execution_count": null,
   "metadata": {},
   "outputs": [
    {
     "name": "stdout",
     "output_type": "stream",
     "text": [
      "0.693147180559945*x + 1.0\n",
      "1.3465735902799725\n"
     ]
    }
   ],
   "source": [
    "P1 = serie_taylor(f,0,1)\n",
    "print(P1)\n",
    "P1= sp.lambdify(x,P1)\n",
    "print(P1(0.5))\n",
    "\n"
   ]
  },
  {
   "cell_type": "markdown",
   "metadata": {},
   "source": [
    "#### Determinar los polinomios de grado1, grado2, grado 6 para la función $\\ln(x²+1)$, entorno a x__0 = 1\n",
    "#### Hacer la gráficas de cada polinomio en un mismo plot\n",
    "#### Aproximar ciertos datos usando el polinomio(importar pandas)"
   ]
  },
  {
   "cell_type": "code",
   "execution_count": 31,
   "metadata": {},
   "outputs": [
    {
     "name": "stdout",
     "output_type": "stream",
     "text": [
      "[[0, -0.306852819440055, 0, 0.306852819440055, oo], [0.5, 0.193147180559945, 0.223143551314210, 0.0299963707542645, 0.134426339356885], [4, 3.69314718055995, 2.83321334405622, 0.859933836503729, 0.303518913712509], [0, -0.306852819440055, 0, 0.306852819440055, oo], [0.5, 0.193147180559945, 0.223143551314210, 0.0299963707542645, 0.134426339356885], [4, 3.69314718055995, 2.83321334405622, 0.859933836503729, 0.303518913712509], [0, -0.0151861527733881, 0, 0.0151861527733881, oo], [0.5, 0.221793013893279, 0.223143551314210, 0.00135053742093116, 0.00605232556790075], [4, 9.31814718055995, 2.83321334405622, 6.48493383650373, 2.28889711045179], [0, 0.0348138472266119, 0, 0.0348138472266119, oo], [0.5, 0.223355513893279, 0.223143551314210, 0.000211962579068831, 0.000949893366043838], [4, -2.83185281944006, 2.83321334405622, 5.66506616349628, 1.99951979450506]]\n",
      "P1:\n",
      "     X                P(X)               F(X)    Ea=|P(X) - F(X)|  \\\n",
      "0  0.0  -0.306852819440055                  0   0.306852819440055   \n",
      "1  0.5   0.193147180559945  0.223143551314210  0.0299963707542645   \n",
      "2  4.0    3.69314718055995   2.83321334405622   0.859933836503729   \n",
      "\n",
      "                 E_r  \n",
      "0                 oo  \n",
      "1  0.134426339356885  \n",
      "2  0.303518913712509  \n",
      "\n",
      "P2:\n",
      "     X                P(X)               F(X)    Ea=|P(X) - F(X)|  \\\n",
      "3  0.0  -0.306852819440055                  0   0.306852819440055   \n",
      "4  0.5   0.193147180559945  0.223143551314210  0.0299963707542645   \n",
      "5  4.0    3.69314718055995   2.83321334405622   0.859933836503729   \n",
      "\n",
      "                 E_r  \n",
      "3                 oo  \n",
      "4  0.134426339356885  \n",
      "5  0.303518913712509  \n",
      "\n",
      "P3:\n",
      "     X                 P(X)               F(X)     Ea=|P(X) - F(X)|  \\\n",
      "6  0.0  -0.0151861527733881                  0   0.0151861527733881   \n",
      "7  0.5    0.221793013893279  0.223143551314210  0.00135053742093116   \n",
      "8  4.0     9.31814718055995   2.83321334405622     6.48493383650373   \n",
      "\n",
      "                   E_r  \n",
      "6                   oo  \n",
      "7  0.00605232556790075  \n",
      "8     2.28889711045179  \n",
      "\n",
      "P4:\n",
      "      X                P(X)               F(X)      Ea=|P(X) - F(X)|  \\\n",
      "9   0.0  0.0348138472266119                  0    0.0348138472266119   \n",
      "10  0.5   0.223355513893279  0.223143551314210  0.000211962579068831   \n",
      "11  4.0   -2.83185281944006   2.83321334405622      5.66506616349628   \n",
      "\n",
      "                     E_r  \n",
      "9                     oo  \n",
      "10  0.000949893366043838  \n",
      "11      1.99951979450506  \n",
      "\n"
     ]
    }
   ],
   "source": [
    "# Función\n",
    "f = sp.log((x**2) + 1)\n",
    "x0 = 1\n",
    "info = []\n",
    "#Polinomio grado 1 \n",
    "P = {\n",
    "    0 : serie_taylor(f,x0,1),\n",
    "    1 : serie_taylor(f,x0,2),\n",
    "    2 : serie_taylor(f,x0,4),\n",
    "    3 : serie_taylor(f,x0,6)\n",
    "}\n",
    "\n",
    "# P1 = serie_taylor(f,x0,1)\n",
    "# print(P1)\n",
    "for i in range(4):\n",
    "    for k in [0,0.5,4]:\n",
    "        P_aprox = P[i].evalf(subs={x:k})\n",
    "        F_real = f.evalf(subs={x:k})\n",
    "        E_abs = np.abs(P_aprox - F_real)\n",
    "        E_rel = np.abs(E_abs/F_real)\n",
    "        info.append([k,P_aprox,F_real,E_abs,E_rel])\n",
    "\n",
    "print((info))\n",
    "d = pd.DataFrame(data=info, columns=['X', 'P(X)', 'F(X)', 'Ea=|P(X) - F(X)|', 'E_r'])\n",
    "for i, group in d.groupby(d.index // 3):\n",
    "    print(f\"P{i+1}:\\n{group}\\n\")\n",
    "\n",
    "\n",
    "# P1 = sp.lambdify(x,P1)\n",
    "\n",
    "# P2 = serie_taylor(f,x0,2)\n",
    "# print(P2)\n",
    "# P2 = sp.lambdify(x,P2)\n",
    "\n",
    "# P3 = serie_taylor(f,x0,6)\n",
    "# print(P3)\n",
    "# P3 = sp.lambdify(x,P3)\n",
    "\n",
    "\n"
   ]
  },
  {
   "cell_type": "code",
   "execution_count": 45,
   "metadata": {},
   "outputs": [
    {
     "name": "stdout",
     "output_type": "stream",
     "text": [
      "Cota máxima 0.00016666947683035551\n"
     ]
    }
   ],
   "source": [
    "# Cota\n",
    "\n",
    "import sympy as sp\n",
    "from math import factorial\n",
    "# x0 =0\n",
    "# x = sp.symbols('x')\n",
    "f = 2**x\n",
    "# x_point = 0.5\n",
    "\n",
    "# df = sp.diff(f,x,4)\n",
    "# df = sp.lambdify(x,df)\n",
    "\n",
    "# u_x = np.linspace(x0,x_point, 1000)\n",
    "\n",
    "# maximo = max(np.abs(df(u_x)))\n",
    "# print(maximo)\n",
    "\n",
    "# R_x = maximo*(x_point-x0)**4/factorial(4)\n",
    "# print(R_x)\n",
    "\n",
    "def calcular_cota(x0, f, x_point, grado):\n",
    "    x = sp.symbols('x')\n",
    "\n",
    "    df = sp.diff(f,x,grado + 1)\n",
    "    df = sp.lambdify(x,df)\n",
    "\n",
    "    u_x = np.linspace(min(x0,x_point),max(x_point,x0),1000)\n",
    "\n",
    "    maximo = max(np.abs(df(u_x)))\n",
    "    R_x = maximo*(x_point - x0)**(grado + 1)/factorial(grado + 1)\n",
    "    return abs(R_x)\n",
    "\n",
    "cota = calcular_cota(2,f,1.5,4)\n",
    "print(f\"Cota máxima {cota}\")\n"
   ]
  },
  {
   "cell_type": "code",
   "execution_count": null,
   "metadata": {},
   "outputs": [],
   "source": []
  }
 ],
 "metadata": {
  "kernelspec": {
   "display_name": "venv",
   "language": "python",
   "name": "python3"
  },
  "language_info": {
   "codemirror_mode": {
    "name": "ipython",
    "version": 3
   },
   "file_extension": ".py",
   "mimetype": "text/x-python",
   "name": "python",
   "nbconvert_exporter": "python",
   "pygments_lexer": "ipython3",
   "version": "3.12.3"
  }
 },
 "nbformat": 4,
 "nbformat_minor": 2
}
