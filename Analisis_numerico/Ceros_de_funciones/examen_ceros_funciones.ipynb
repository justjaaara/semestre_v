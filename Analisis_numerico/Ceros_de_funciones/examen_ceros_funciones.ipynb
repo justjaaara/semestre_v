{
 "cells": [
  {
   "cell_type": "markdown",
   "metadata": {},
   "source": [
    "Integrantes:\n",
    "    - Juan Pablo Cardona Bedoya\n",
    "    - Felipe Villa Jaramillo"
   ]
  },
  {
   "cell_type": "code",
   "execution_count": 77,
   "id": "00a818f2",
   "metadata": {},
   "outputs": [],
   "source": [
    "\"\"\"\n",
    "Funciones que calculan métodos numéricos\n",
    "\"\"\"\n",
    "\n",
    "import sympy as sp\n",
    "\n",
    "\n",
    "def Biseccion(funcion,a,b,tolerancia):\n",
    "\n",
    "    if funcion(a) * funcion(b) > 0:\n",
    "        print('La función no cumple el teorema en el intervalo inicial')\n",
    "        return\n",
    "    else:\n",
    "        iteracion = 0\n",
    "        while (abs(b-a) > tolerancia):\n",
    "            iteracion+=1\n",
    "            p = (a+b)/2\n",
    "            if (funcion(a)*funcion(p)) > 0:\n",
    "                a = p\n",
    "            else:\n",
    "                b = p\n",
    "        return iteracion,p\n",
    "\n",
    "def falsa_posicion(funcion,a,b,tolerancia):\n",
    "\n",
    "    if funcion(a) * funcion(b) > 0:\n",
    "        print('La función no cumple el teorema en el intervalo inicial')\n",
    "        return\n",
    "    else:\n",
    "        iteracion = 0\n",
    "        p = b-funcion(b)*(a-b)/(funcion(a)-funcion(b))\n",
    "        while (abs(funcion(p))>tolerancia):\n",
    "            iteracion+=1\n",
    "            p = b-funcion(b)*(a-b)/(funcion(a)-funcion(b))\n",
    "            if (funcion(a)*funcion(p)) > 0:\n",
    "                a = p\n",
    "            else:\n",
    "                b = p\n",
    "        return iteracion,p\n",
    "\n",
    "def newton_rapshon(funcion,x0,tolerancia,x):\n",
    "    derivada_funcion = sp.diff(funcion,x)\n",
    "    x1 : float = x0 - (funcion.evalf(subs={x:x0})/derivada_funcion.evalf(subs={x: x0}))\n",
    "    iteraciones = 0\n",
    "    while abs(x1 - x0) > tolerancia:\n",
    "        print(f\"X{iteraciones} = {x1}\")\n",
    "        iteraciones += 1\n",
    "        x0 = x1\n",
    "        x1 = x0 - (funcion.evalf(subs={x: x0}) / derivada_funcion.evalf(subs={x: x0}))\n",
    "    return iteraciones, x1, derivada_funcion\n",
    "\n",
    "\n",
    "def secante(funcion, x0, x1, tolerancia):\n",
    "    iteraciones = 0\n",
    "    error = 1\n",
    "    while (error > tolerancia):\n",
    "        iteraciones += 1\n",
    "        print(f\"V{iteraciones} = {x1}\")\n",
    "        x2 = x1 - (funcion(x1) * (x0-x1))/(funcion(x0) - funcion(x1))\n",
    "        error = abs(x2 - x1)\n",
    "        x0 = x1\n",
    "        x1 = x2\n",
    "\n",
    "    return iteraciones, x2"
   ]
  },
  {
   "cell_type": "markdown",
   "id": "ed31f836",
   "metadata": {},
   "source": [
    "![Punto 1](https://i.imgur.com/STuQszA.png \"Punto 1\")"
   ]
  },
  {
   "cell_type": "code",
   "execution_count": 78,
   "id": "83944545",
   "metadata": {},
   "outputs": [
    {
     "name": "stdout",
     "output_type": "stream",
     "text": [
      "X0 = -5.56437389770723\n",
      "X1 = -4.57967651724321\n",
      "X2 = -3.95237511367123\n",
      "X3 = -3.61074066179307\n",
      "X4 = -3.48350272662925\n",
      "X5 = -3.46451437171825\n",
      "X6 = -3.46410180820825\n",
      "La raiz es:  -3.46410161513780\n",
      " P(x2) es: 38.4624727282080\n",
      " P'(x2) es: -112.583706112655\n"
     ]
    }
   ],
   "source": [
    "#Solucion punto 1\n",
    "\n",
    "x = sp.symbols('x')\n",
    "polinomio = (x**4) - ((17)*(x**2)) + (60)\n",
    "x0 = -7\n",
    "tolerancia = 1e-6\n",
    "iteraciones, raiz, derivada_funcion = newton_rapshon(polinomio, x0, tolerancia, x)\n",
    "#Ya obtuvimos el x2 por medio del método de Newton-Raphson ahora lo evaluamos en la funcion y en la derivada\n",
    "X2 = -3.95237511367123\n",
    "print(\"La raiz es: \", raiz)\n",
    "\n",
    "p_x2 = polinomio.evalf(subs={x: X2})\n",
    "print(f\" P(x2) es: {p_x2}\")\n",
    "\n",
    "p_x2_derivada = derivada_funcion.evalf(subs={x: X2})\n",
    "print(f\" P'(x2) es: {p_x2_derivada}\")\n"
   ]
  },
  {
   "cell_type": "markdown",
   "id": "ef043f96",
   "metadata": {},
   "source": [
    "![Punto 2](https://i.imgur.com/k4Z6Vqi.png \"Punto 2\")"
   ]
  },
  {
   "cell_type": "code",
   "execution_count": 79,
   "id": "8485daaf",
   "metadata": {},
   "outputs": [
    {
     "name": "stdout",
     "output_type": "stream",
     "text": [
      "Aproximacion: -1.0000009536743164\n",
      " Por lo tanto la raiz seria -1, la cual sería la primera en encontrar de ese intervalo\n"
     ]
    }
   ],
   "source": [
    "\n",
    "#Solucion\n",
    "\n",
    "funcion = lambda x: (x + 3) * (x + 1) * (x**2) * ((x - 1)**3) * (x - 2) * (x - 4)\n",
    "iteraciones, raiz = Biseccion(funcion, -1.5, 2.5, 1e-6)\n",
    "print(f\"Aproximacion: {raiz}\")\n",
    "print(f\" Por lo tanto la raiz seria -1, la cual sería la primera en encontrar de ese intervalo\")"
   ]
  },
  {
   "cell_type": "markdown",
   "id": "031014e6",
   "metadata": {},
   "source": [
    "![Punto 3](https://i.imgur.com/5xALLaU.png \"Punto 3\")"
   ]
  },
  {
   "cell_type": "code",
   "execution_count": 80,
   "id": "7bca383b",
   "metadata": {},
   "outputs": [
    {
     "name": "stdout",
     "output_type": "stream",
     "text": [
      "Aproximacion: -3.000000238418579\n",
      "Se encontró en 23 iteraciones.\n"
     ]
    }
   ],
   "source": [
    "# Solución\n",
    "funcion = lambda x: (x + 3) * (x + 1) * (x**2) * ((x - 1)**3) * (x - 2) * (x - 4)\n",
    "a, b = -4, 2\n",
    "tolerancia = 1e-6\n",
    "\n",
    "iteraciones, raiz = Biseccion(funcion, a, b, tolerancia)\n",
    "\n",
    "print(f\"Aproximacion: {raiz}\")\n",
    "print(f\"Se encontró en {iteraciones} iteraciones.\")\n"
   ]
  },
  {
   "cell_type": "markdown",
   "id": "fbc74409",
   "metadata": {},
   "source": [
    "![Punto 4](https://i.imgur.com/pVqrmmr.png \"Punto 4\")"
   ]
  },
  {
   "cell_type": "code",
   "execution_count": 81,
   "id": "724bc111",
   "metadata": {},
   "outputs": [
    {
     "name": "stdout",
     "output_type": "stream",
     "text": [
      "X0 = -0.433826895452280\n",
      "X1 = -0.434143058573108\n",
      "El único cero negativo aproximada es: -0.434143047285729\n",
      "Se encontró en 2 iteraciones.\n",
      "X0 = 0.451879159703456\n",
      "X1 = 0.450657739855385\n",
      "Uno de los ceros positivos más pequeño aproximada es: 0.450656747890593\n"
     ]
    }
   ],
   "source": [
    "x = sp.symbols('x')\n",
    "polinomio = sp.ln(x**2 +1) - sp.exp((0.4)*x)*sp.cos(sp.pi*x)\n",
    "\n",
    "\n",
    "#Dandole solución al item 1\n",
    "#Tomamos el X0 como -0.5 para que converga a la raíz negativa ya que en la gráfica sabemos que ese es el valor cercano\n",
    "x0 = -0.5\n",
    "tolerancia = 1e-6\n",
    "iteraciones, raiz, derivada_funcion = newton_rapshon(polinomio, x0, tolerancia, x)\n",
    "print(f\"El único cero negativo aproximada es: {raiz}\")\n",
    "print(f\"Se encontró en {iteraciones} iteraciones.\")\n",
    "\n",
    "#Dandole solucion al item 2\n",
    "#tomamos el X0 más cercano a la raíz positiva, en este caso 0.5\n",
    "x_0 = 0.5\n",
    "tolerancia = 1e-6\n",
    "iteraciones, raiz, derivada_funcion = newton_rapshon(polinomio, x_0, tolerancia, x)\n",
    "print(f\"Uno de los ceros positivos más pequeño aproximada es: {raiz}\")\n"
   ]
  },
  {
   "cell_type": "markdown",
   "metadata": {},
   "source": [
    "![Punto 5](https://i.imgur.com/8rDopxH.png \"Punto 5\")"
   ]
  },
  {
   "cell_type": "code",
   "execution_count": 82,
   "metadata": {},
   "outputs": [
    {
     "name": "stdout",
     "output_type": "stream",
     "text": [
      "V1 = 1.1\n",
      "V2 = 0.1803323227271888\n",
      "V3 = 0.17966451045641998\n",
      "V4 = 0.17966194899476748\n",
      "--------------------------------------\n",
      "V3 = 0.17966451045641998\n",
      "Aproximacion de la raíz: 0.17966194895875945\n"
     ]
    }
   ],
   "source": [
    "#solucion\n",
    "\n",
    "V0, V1 = 1.0, 1.1\n",
    "tolerancia = 1e-6\n",
    "\n",
    "P = 40      \n",
    "T = 80      \n",
    "Pc = 2.26   \n",
    "Tc = 5.26   \n",
    "R = 0.0821  \n",
    "\n",
    "funcion = lambda V: (P + a / (T**0.5 * V * (V + b))) * (V - b) - R * T\n",
    "a = 0.4278 * R**2 * Tc**2.5 / Pc\n",
    "b = 0.0864 * R * Tc / Pc\n",
    "\n",
    "iteraciones, raiz = secante(funcion, V0, V1, tolerancia)\n",
    "print('--------------------------------------')\n",
    "print(f\"V3 = {0.17966451045641998}\")\n",
    "print(f\"Aproximacion de la raíz: {raiz}\")"
   ]
  }
 ],
 "metadata": {
  "kernelspec": {
   "display_name": "venv",
   "language": "python",
   "name": "python3"
  },
  "language_info": {
   "codemirror_mode": {
    "name": "ipython",
    "version": 3
   },
   "file_extension": ".py",
   "mimetype": "text/x-python",
   "name": "python",
   "nbconvert_exporter": "python",
   "pygments_lexer": "ipython3",
   "version": "3.12.3"
  }
 },
 "nbformat": 4,
 "nbformat_minor": 5
}
