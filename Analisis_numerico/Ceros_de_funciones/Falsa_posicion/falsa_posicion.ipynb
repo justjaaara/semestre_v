{
 "cells": [
  {
   "cell_type": "code",
   "execution_count": 4,
   "metadata": {},
   "outputs": [
    {
     "name": "stdout",
     "output_type": "stream",
     "text": [
      "Buscando.....\n"
     ]
    },
    {
     "data": {
      "text/plain": [
       "(184, 0.9999990748624065)"
      ]
     },
     "execution_count": 4,
     "metadata": {},
     "output_type": "execute_result"
    }
   ],
   "source": [
    "def falsa_posicion(funcion,a,b,tolerancia):\n",
    "    \n",
    "    if funcion(a) * funcion(b) > 0:\n",
    "        print('La función no cumple el teorema en el intervalo inicial')\n",
    "        return\n",
    "    else:\n",
    "        print('Buscando.....')\n",
    "        iteracion = 0\n",
    "        p = b-funcion(b)*(a-b)/(funcion(a)-funcion(b))\n",
    "        while (abs(funcion(p))>tolerancia):\n",
    "            iteracion+=1\n",
    "            p = b-funcion(b)*(a-b)/(funcion(a)-funcion(b))\n",
    "            if (funcion(a)*funcion(p)) > 0:\n",
    "                a = p\n",
    "            else:\n",
    "                b = p\n",
    "        return iteracion,p\n",
    "\n",
    "f_prueba = lambda x: x**10-1\n",
    "falsa_posicion(f_prueba,0,1.5,1e-5)"
   ]
  }
 ],
 "metadata": {
  "kernelspec": {
   "display_name": "venv",
   "language": "python",
   "name": "python3"
  },
  "language_info": {
   "codemirror_mode": {
    "name": "ipython",
    "version": 3
   },
   "file_extension": ".py",
   "mimetype": "text/x-python",
   "name": "python",
   "nbconvert_exporter": "python",
   "pygments_lexer": "ipython3",
   "version": "3.12.3"
  }
 },
 "nbformat": 4,
 "nbformat_minor": 2
}
