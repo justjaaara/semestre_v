{
 "cells": [
  {
   "cell_type": "code",
   "execution_count": 1,
   "metadata": {},
   "outputs": [],
   "source": [
    "import numpy as np\n",
    "import pandas as pd\n",
    "\n",
    "def Biseccion(funcion,a,b,tolerancia):\n",
    "    \n",
    "    if funcion(a) * funcion(b) > 0:\n",
    "        print('La función no cumple el teorema en el intervalo inicial')\n",
    "        return\n",
    "    else:\n",
    "        print('Buscando.....')\n",
    "        iteracion = 0\n",
    "        while (abs(b-a) > tolerancia):\n",
    "            iteracion+=1\n",
    "            p = (a+b)/2\n",
    "            if (funcion(a)*funcion(p)) > 0:\n",
    "                a = p\n",
    "            else:\n",
    "                b = p\n",
    "        return iteracion,p\n",
    "\n"
   ]
  },
  {
   "cell_type": "code",
   "execution_count": 18,
   "metadata": {},
   "outputs": [
    {
     "name": "stdout",
     "output_type": "stream",
     "text": [
      "Buscando.....\n",
      "La solución es 0.5478086248040199 y la función evaluada es, -5.045638018508214e-09 y en 27 iteraciones\n"
     ]
    }
   ],
   "source": [
    "f = lambda x: 3**(-x)-x\n",
    "\n",
    "iteracion, root = (Biseccion(f,0,1,1e-8)) #1e-2 == 10**-2\n",
    "print(f'La solución es {root} y la función evaluada es, {f(root)} y en {iteracion} iteraciones')"
   ]
  },
  {
   "cell_type": "code",
   "execution_count": 25,
   "metadata": {},
   "outputs": [
    {
     "name": "stdout",
     "output_type": "stream",
     "text": [
      "Buscando.....\n",
      "El ángulo inicial es: 27.158846855163574 y en 20 iteraciones se encontró la solución\n"
     ]
    }
   ],
   "source": [
    "# Ejercicio catcher\n",
    "x = 35\n",
    "g = 9.8\n",
    "vo = 20\n",
    "yo = 2\n",
    "y =1\n",
    "f_trayectoria = lambda theta: 35 *np.tan(theta)-((g)*(x**2))/((2)*(vo**2)*(np.cos(theta))**2)+yo-y\n",
    "\n",
    "iteracion_theta, theta_inicial = (Biseccion(f_trayectoria,0,np.pi/4,1e-6))\n",
    "print(f\"El ángulo inicial es: {np.degrees(theta_inicial)} y en {iteracion_theta} iteraciones se encontró la solución\")"
   ]
  },
  {
   "cell_type": "code",
   "execution_count": null,
   "metadata": {},
   "outputs": [],
   "source": [
    "# "
   ]
  },
  {
   "cell_type": "code",
   "execution_count": 5,
   "metadata": {},
   "outputs": [
    {
     "name": "stdout",
     "output_type": "stream",
     "text": [
      "3\n",
      "1\n",
      "1\n",
      "1\n",
      "1\n",
      "1\n",
      "2\n"
     ]
    },
    {
     "data": {
      "text/plain": [
       "1"
      ]
     },
     "execution_count": 5,
     "metadata": {},
     "output_type": "execute_result"
    }
   ],
   "source": [
    "def numero_mas_frecuente_optimizado(lista):\n",
    "    frecuencia = {}  # Diccionario para almacenar las frecuencias\n",
    "    for num in lista:\n",
    "        if num in frecuencia:\n",
    "            frecuencia[num] += 1\n",
    "        else:\n",
    "            frecuencia[num] = 1\n",
    "\n",
    "    # Encontrar el número con la frecuencia máxima\n",
    "    max_frecuencia = 0\n",
    "    numero_comun = None\n",
    "    for num, count in frecuencia.items():\n",
    "        print(count)\n",
    "        if count > max_frecuencia:\n",
    "            max_frecuencia = count\n",
    "            numero_comun = num\n",
    "\n",
    "    return numero_comun\n",
    "\n",
    "lista = [1, 1, 1, 2, 3, 4, 5, 6 ,7, 7]\n",
    "numero_mas_frecuente_optimizado(lista)"
   ]
  }
 ],
 "metadata": {
  "kernelspec": {
   "display_name": "venv",
   "language": "python",
   "name": "python3"
  },
  "language_info": {
   "codemirror_mode": {
    "name": "ipython",
    "version": 3
   },
   "file_extension": ".py",
   "mimetype": "text/x-python",
   "name": "python",
   "nbconvert_exporter": "python",
   "pygments_lexer": "ipython3",
   "version": "3.12.3"
  }
 },
 "nbformat": 4,
 "nbformat_minor": 2
}
