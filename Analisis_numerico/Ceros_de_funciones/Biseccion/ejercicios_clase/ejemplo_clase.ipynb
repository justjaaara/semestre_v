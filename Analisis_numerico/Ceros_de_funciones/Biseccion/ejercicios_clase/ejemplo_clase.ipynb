{
 "cells": [
  {
   "cell_type": "code",
   "execution_count": 1,
   "metadata": {},
   "outputs": [
    {
     "name": "stdout",
     "output_type": "stream",
     "text": [
      "Buscando.....\n",
      "18 1.0000019073486328\n"
     ]
    }
   ],
   "source": [
    "def Biseccion(funcion,a,b,tolerancia):\n",
    "    \n",
    "    if funcion(a) * funcion(b) > 0:\n",
    "        print('La función no cumple el teorema en el intervalo inicial')\n",
    "        return\n",
    "    else:\n",
    "        print('Buscando.....')\n",
    "        iteracion = 0\n",
    "        while (abs(b-a) > tolerancia):\n",
    "            iteracion+=1\n",
    "            p = (a+b)/2\n",
    "            if (funcion(a)*funcion(p)) > 0:\n",
    "                a = p\n",
    "            else:\n",
    "                b = p\n",
    "        return iteracion,p\n",
    "\n",
    "# intervalo [0, 1.5]\n",
    "funcion = lambda x: (x**10)-1\n",
    "iteraciones, result = Biseccion(funcion,0,1.5,1e-5)\n",
    "print(iteraciones, result)"
   ]
  }
 ],
 "metadata": {
  "kernelspec": {
   "display_name": "venv",
   "language": "python",
   "name": "python3"
  },
  "language_info": {
   "codemirror_mode": {
    "name": "ipython",
    "version": 3
   },
   "file_extension": ".py",
   "mimetype": "text/x-python",
   "name": "python",
   "nbconvert_exporter": "python",
   "pygments_lexer": "ipython3",
   "version": "3.12.3"
  }
 },
 "nbformat": 4,
 "nbformat_minor": 2
}
